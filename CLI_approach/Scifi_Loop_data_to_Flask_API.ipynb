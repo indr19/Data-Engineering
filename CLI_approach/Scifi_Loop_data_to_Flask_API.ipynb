{
 "cells": [
  {
   "cell_type": "code",
   "execution_count": 1,
   "metadata": {},
   "outputs": [],
   "source": [
    "import requests\n",
    "import ntpath\n",
    "import os\n",
    "from datetime import datetime\n",
    "import json"
   ]
  },
  {
   "cell_type": "code",
   "execution_count": 2,
   "metadata": {},
   "outputs": [],
   "source": [
    "#  ACCEPTED\n",
    "#\n",
    "#  routine to the pilot data from the pilot_data.json database\n",
    "#\n",
    "pilot_data_json = open('pilot_data.json', 'r')\n",
    "pilot_data = json.load(pilot_data_json)\n",
    "pilot_data_json.close()"
   ]
  },
  {
   "cell_type": "code",
   "execution_count": 3,
   "metadata": {},
   "outputs": [
    {
     "name": "stdout",
     "output_type": "stream",
     "text": [
      "200\n",
      "200\n",
      "200\n",
      "200\n",
      "200\n",
      "200\n",
      "200\n",
      "200\n",
      "200\n",
      "200\n",
      "200\n",
      "200\n",
      "200\n",
      "200\n",
      "200\n",
      "200\n",
      "200\n",
      "200\n",
      "200\n",
      "200\n",
      "200\n",
      "200\n",
      "200\n",
      "200\n",
      "200\n",
      "200\n",
      "200\n",
      "200\n",
      "200\n",
      "200\n",
      "200\n",
      "200\n",
      "200\n",
      "200\n",
      "200\n",
      "200\n",
      "200\n",
      "200\n",
      "200\n"
     ]
    }
   ],
   "source": [
    "#\n",
    "# Set up all user data to send to \n",
    "#\n",
    "URL_jobsubmission = 'http://localhost:5000/Enrol_pilot'\n",
    "for key in pilot_data['pilot']:\n",
    "    index = pilot_data['pilot'].index(key)\n",
    "    #  user data for current pilot retrieved\n",
    "    USER_data = {'pilotID' : pilot_data['pilotID'][index], \n",
    "                 'pilot' : pilot_data['pilot'][index],\n",
    "                 'allegiance' : pilot_data['allegiance'][index],\n",
    "                 'ship' : pilot_data['ship'][index],\n",
    "                 'ship_cost' : pilot_data['ship_cost'][index],\n",
    "                 'datestamp' : pilot_data['datestamp'][index] \n",
    "                }\n",
    "    USER_send_data = requests.get(\n",
    "        url = URL_jobsubmission,\n",
    "        json = USER_data\n",
    "    )\n",
    "    x = USER_send_data.status_code\n",
    "    print(x)"
   ]
  },
  {
   "cell_type": "code",
   "execution_count": null,
   "metadata": {},
   "outputs": [],
   "source": []
  }
 ],
 "metadata": {
  "environment": {
   "name": "tf2-gpu.2-1.m46",
   "type": "gcloud",
   "uri": "gcr.io/deeplearning-platform-release/tf2-gpu.2-1:m46"
  },
  "kernelspec": {
   "display_name": "Python 3",
   "language": "python",
   "name": "python3"
  },
  "language_info": {
   "codemirror_mode": {
    "name": "ipython",
    "version": 3
   },
   "file_extension": ".py",
   "mimetype": "text/x-python",
   "name": "python",
   "nbconvert_exporter": "python",
   "pygments_lexer": "ipython3",
   "version": "3.7.6"
  }
 },
 "nbformat": 4,
 "nbformat_minor": 4
}
