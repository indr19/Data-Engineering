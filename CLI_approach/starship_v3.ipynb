{
 "cells": [
  {
   "cell_type": "code",
   "execution_count": 8,
   "metadata": {},
   "outputs": [],
   "source": [
    "import requests\n",
    "import ntpath\n",
    "import os\n",
    "from datetime import datetime\n",
    "import json"
   ]
  },
  {
   "cell_type": "code",
   "execution_count": 9,
   "metadata": {},
   "outputs": [],
   "source": [
    "def get_pilot():\n",
    "#\n",
    "#  ACCEPTED\n",
    "#\n",
    "    USER_pilot = \"\"\n",
    "    while USER_pilot.strip()==\"\":\n",
    "        USER_pilot = input('\\nEnter your Starship pilot name, Example - \"Hans Solo\"  : ')\n",
    "    return USER_pilot"
   ]
  },
  {
   "cell_type": "code",
   "execution_count": 10,
   "metadata": {},
   "outputs": [],
   "source": [
    "def ship_options():\n",
    "#\n",
    "#  ACCEPTED\n",
    "#\n",
    "    pilot_allegiance_ship_opts = {\n",
    "        'Rebel_Alliance' : \n",
    "        { 'X-Wing_Starfighter': 70, 'Radiant_VII' : 27 , 'Tantine_IV' : 450, 'Delta-7B' : 45, 'Y-wing_fighter' : 52, 'Millenium_Falcon' : 280 },\n",
    "        'Stormtroopers'  :\n",
    "        { 'TIE_fighter' : 28, 'Fulminatrix' : 1500, 'Imperial_Shuttle' : 60, 'Sith_Infiltrator' : 92, 'Supremacy' : 160 },\n",
    "        'Cylon' :\n",
    "        { 'Base_Star' : 2000, 'Cylon Raider' : 80 },\n",
    "        'Colonial_Warriors' :\n",
    "        { 'Viper' : 56, 'Battlestar' : 1300 },\n",
    "        'Moon_Base_Alpha_Squadron' :\n",
    "        { 'Eagle_Transporter' : 22 , 'Eagle_1' : 25 },\n",
    "        'Blade_Runner' :\n",
    "        { 'Blade_Runner_Spinner' : 12 ,'Attack_Ship' : 19 },\n",
    "        'Terran_Federation' :\n",
    "        { 'Terran_Dreadnought' : 135 , 'Terran_Cruiser' : 57 },\n",
    "        'Starfleet' :\n",
    "        { 'Enterprise_C' : 900 , 'Defiant_Class' : 500 , 'Delta_Flyer' : 35 },\n",
    "        'Klingon' :\n",
    "        { 'D7_Class' : 101 , 'Bird_of_Prey' : 98 , 'Vorcha_Class' : 250 },\n",
    "        'Romulan' :\n",
    "        { 'Warbird' : 120 , 'Valdore' : 176 , 'Dderidex' : 180 },\n",
    "        'Founders' :\n",
    "        { 'Jemhadar_Recon' : 92 , 'Cardassian_Nerok' : 143 , 'Jemhadar_Heavy_Strike' : 210 },\n",
    "        'Colonial_Marines' :\n",
    "        { 'USS_Sulaco' : 320 , 'USM Auriga' : 400 },\n",
    "        'Time_Lord' :\n",
    "        { 'Tardis' : 3000 , 'Gallifreyan Bow Ship': 2000 },\n",
    "        'Stargate_Tau_Ri' :\n",
    "        { 'Prometheus' : 250 , 'Daedalus' :240,  'Korolev' : 230, 'Sun_Tzu' : 270 },\n",
    "        'Goauld' :\n",
    "        { 'HaTak' : 72, 'Alkesh' : 110 , 'Death_Glider' : 39 },\n",
    "        'Starfighter' :\n",
    "        { 'Gunstar' : 112 , 'Starcar' : 9 , 'Zandozan' : 7 }\n",
    "    }\n",
    "    return pilot_allegiance_ship_opts\n",
    "#"
   ]
  },
  {
   "cell_type": "code",
   "execution_count": 11,
   "metadata": {},
   "outputs": [],
   "source": [
    "def get_allegiance():\n",
    "#\n",
    "#  ACCEPTED\n",
    "#\n",
    "    pilot_allegiance_ship_opts = ship_options()\n",
    "#\n",
    "    USER_allegiance_opts = []\n",
    "    for key in pilot_allegiance_ship_opts.keys():\n",
    "        USER_allegiance_opts.append(key)\n",
    "#\n",
    "    USER_allegiance = \"\"  \n",
    "    while USER_allegiance==\"\":\n",
    "        print('\\nAvailable groups are listed below.  Sign-up and join the fight!!! : \\n')\n",
    "        print(USER_allegiance_opts)                                \n",
    "        USER_allegiance = input('\\nEnter your desired allegiance starfighter: ') # read in string input\n",
    "        USER_allegiance = USER_allegiance.replace(\" \",\"\")  # get rid of whitespace\n",
    "        USER_allegiance = USER_allegiance.replace(\"'\",\"\") # get rid of apostrophe\n",
    "        if USER_allegiance not in USER_allegiance_opts:\n",
    "            print(USER_allegiance_opts)\n",
    "            print('\\nEnter your desired allegiance, starfighter: ')\n",
    "            USER_allegiance =\"\"\n",
    "#\n",
    "    print('Congratulations pilot, you just joined %s! \\n'%USER_allegiance)\n",
    "# outside the while loop, now choose a ship\n",
    "    USER_ship_opts = []\n",
    "    for key in pilot_allegiance_ship_opts.keys():\n",
    "        if key == USER_allegiance:\n",
    "            for key in pilot_allegiance_ship_opts[key].keys():\n",
    "                USER_ship_opts.append(key)\n",
    "#\n",
    "    USER_ship = \"\"\n",
    "    while USER_ship==\"\":\n",
    "        print('Congratulations on joining %s. You will need a ship to fight in. Choose from the list. : \\n'%USER_allegiance)\n",
    "        print(USER_ship_opts)  \n",
    "        USER_ship = input('\\nChoose your fighting ship from the list, starfighter: ') # read in string input\n",
    "        if USER_ship not in USER_ship_opts:\n",
    "            print(USER_ship_opts) \n",
    "            print('\\nChoose your fighting ship from the list, starfighter: ')\n",
    "            USER_ship =\"\"\n",
    "    print('\\nCongratulations. You now fly a %s for the %s.\\n'% (USER_ship, USER_allegiance))\n",
    "#\n",
    "    for key,value in pilot_allegiance_ship_opts[USER_allegiance].items():\n",
    "        if key == USER_ship:\n",
    "            USER_ship_cost = value\n",
    "#\n",
    "    return USER_allegiance, USER_ship, USER_ship_cost"
   ]
  },
  {
   "cell_type": "code",
   "execution_count": 12,
   "metadata": {},
   "outputs": [],
   "source": [
    "#\n",
    "# Set up all user data to send to \n",
    "#\n",
    "# ACCEPTED\n",
    "#\n",
    "def send_to_server(USER_data):\n",
    "#\n",
    "    URL_jobsubmission = 'http://localhost:5000/Enrol_pilot'\n",
    "#\n",
    "    USER_send_data = requests.get(\n",
    "    url = URL_jobsubmission,\n",
    "    json = USER_data\n",
    "    )\n",
    "    x = USER_send_data.status_code\n",
    "    print(x)\n",
    "#\n",
    "#!docker-compose -f /home/jupyter/w205/proj3/14/docker-compose.yml exec mids ab -n 10 -p /w205/proj3/14/post.txt -T application/json -H \"Host: user1.comcast.com\" http://localhost:5000/\n",
    "#"
   ]
  },
  {
   "cell_type": "code",
   "execution_count": 13,
   "metadata": {},
   "outputs": [],
   "source": [
    "def get_data():\n",
    "#\n",
    "#  ACCEPTED\n",
    "#\n",
    "#  routine to the pilot data from the pilot_data.json database\n",
    "#\n",
    "    pilot_data_json = open('pilot_data.json', 'r')\n",
    "    pilot_data = json.load(pilot_data_json)\n",
    "    pilot_data_json.close()\n",
    "#  \n",
    "    return pilot_data\n",
    "#"
   ]
  },
  {
   "cell_type": "code",
   "execution_count": 14,
   "metadata": {},
   "outputs": [
    {
     "name": "stdin",
     "output_type": "stream",
     "text": [
      "\n",
      "Enter your Starship pilot name, Example - \"Hans Solo\"  :  Admiral Akbar\n"
     ]
    },
    {
     "name": "stdout",
     "output_type": "stream",
     "text": [
      "\n",
      "Available groups are listed below.  Sign-up and join the fight!!! : \n",
      "\n",
      "['Rebel_Alliance', 'Stormtroopers', 'Cylon', 'Colonial_Warriors', 'Moon_Base_Alpha_Squadron', 'Blade_Runner', 'Terran_Federation', 'Starfleet', 'Klingon', 'Romulan', 'Founders', 'Colonial_Marines', 'Time_Lord', 'Stargate_Tau_Ri', 'Goauld', 'Starfighter']\n"
     ]
    },
    {
     "name": "stdin",
     "output_type": "stream",
     "text": [
      "\n",
      "Enter your desired allegiance starfighter:  Rebel_Alliance\n"
     ]
    },
    {
     "name": "stdout",
     "output_type": "stream",
     "text": [
      "Congratulations pilot, you just joined Rebel_Alliance! \n",
      "\n",
      "Congratulations on joining Rebel_Alliance. You will need a ship to fight in. Choose from the list. : \n",
      "\n",
      "['X-Wing_Starfighter', 'Radiant_VII', 'Tantine_IV', 'Delta-7B', 'Y-wing_fighter', 'Millenium_Falcon']\n"
     ]
    },
    {
     "name": "stdin",
     "output_type": "stream",
     "text": [
      "\n",
      "Choose your fighting ship from the list, starfighter:  Tantine_IV\n"
     ]
    },
    {
     "name": "stdout",
     "output_type": "stream",
     "text": [
      "\n",
      "Congratulations. You now fly a Tantine_IV for the Rebel_Alliance.\n",
      "\n",
      "\n",
      "Your pilot status has now been registered in the database!  Here is a read-out of your data.\n",
      "\n",
      "{'pilotID': 39, 'pilot': 'Admiral Akbar', 'allegiance': 'Rebel_Alliance', 'ship': 'Tantine_IV', 'ship_cost': 450, 'datestamp': 1596828211.475628}\n",
      "200\n"
     ]
    }
   ],
   "source": [
    "def main():\n",
    "#\n",
    "#  ACCEPTED\n",
    "#\n",
    "    transaction_time = datetime.timestamp(datetime.now())\n",
    "#\n",
    "    pilot_data = get_data()\n",
    "# so until we get an existing pilot or new pilot we can do nothing\n",
    "\n",
    "    NUM_pilots = len(pilot_data['pilot'])\n",
    "#\n",
    "    exist_pilot = 0\n",
    "    USER_pilot = \"\"\n",
    "    while USER_pilot.strip()==\"\":\n",
    "        USER_pilot = get_pilot()\n",
    "        for value in pilot_data['pilot']:\n",
    "            if value == USER_pilot:\n",
    "                index = pilot_data['pilot'].index(USER_pilot)\n",
    "                exist_pilot = 1  # flag for an existing pilot, no duplicates allowed in database\n",
    "                #  user data for current pilot retrieved\n",
    "                USER_data = {'pilotID' : pilot_data['pilotID'][index], \n",
    "                             'pilot' : pilot_data['pilot'][index],\n",
    "                             'allegiance' : pilot_data['allegiance'][index],\n",
    "                             'ship' : pilot_data['ship'][index],\n",
    "                             'ship_cost' : pilot_data['ship_cost'][index],\n",
    "                             'datestamp' : pilot_data['datestamp'][index] \n",
    "                            }\n",
    "                print('\\nPilot already registered in the database!  Here is a read-out of your data.\\n\\n%s'%USER_data)\n",
    "#\n",
    "    if (exist_pilot == 0):\n",
    "        # so already have a name, but we need allegiance, ship choice\n",
    "        allegiance, ship, ship_cost = get_allegiance()\n",
    "        USER_data = {'pilotID' : NUM_pilots+1, \n",
    "                     'pilot' : USER_pilot,\n",
    "                     'allegiance' : allegiance,\n",
    "                     'ship' : ship,\n",
    "                     'ship_cost' : ship_cost,\n",
    "                     'datestamp' : transaction_time\n",
    "                    }\n",
    "# updating the persistent json database with new pilot information\n",
    "        pilot_data['pilotID'].append(NUM_pilots+1)\n",
    "        pilot_data['pilot'].append(USER_pilot)\n",
    "        pilot_data['allegiance'].append(allegiance)\n",
    "        pilot_data['ship'].append(ship)\n",
    "        pilot_data['ship_cost'].append(ship_cost)\n",
    "        pilot_data['datestamp'].append(transaction_time)\n",
    "        with open('pilot_data.json', 'w') as outfile:\n",
    "            json.dump(pilot_data, outfile)\n",
    "#       \n",
    "        print('\\nYour pilot status has now been registered in the database!  Here is a read-out of your data.\\n\\n%s'%USER_data)\n",
    "#\n",
    "# send data to the flask for current pilot\n",
    "#\n",
    "    send_to_server(USER_data)\n",
    "#\n",
    "if __name__ == '__main__':\n",
    "    main()\n",
    "#"
   ]
  },
  {
   "cell_type": "code",
   "execution_count": null,
   "metadata": {},
   "outputs": [],
   "source": []
  }
 ],
 "metadata": {
  "environment": {
   "name": "tf2-gpu.2-1.m46",
   "type": "gcloud",
   "uri": "gcr.io/deeplearning-platform-release/tf2-gpu.2-1:m46"
  },
  "kernelspec": {
   "display_name": "Python 3",
   "language": "python",
   "name": "python3"
  },
  "language_info": {
   "codemirror_mode": {
    "name": "ipython",
    "version": 3
   },
   "file_extension": ".py",
   "mimetype": "text/x-python",
   "name": "python",
   "nbconvert_exporter": "python",
   "pygments_lexer": "ipython3",
   "version": "3.7.6"
  }
 },
 "nbformat": 4,
 "nbformat_minor": 4
}
